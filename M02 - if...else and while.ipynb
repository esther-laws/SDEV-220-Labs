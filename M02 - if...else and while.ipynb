{
 "cells": [
  {
   "cell_type": "code",
   "execution_count": null,
   "id": "178b4292",
   "metadata": {},
   "outputs": [],
   "source": [
    "#Esther Laws\n",
    "#Student_Grade_Records.py\n",
    "#This program will accept the input of a student's grade and will then determine\n",
    "#if the student has made the Dean's List or the Honor Roll (Dean's List: 3.5+; \n",
    "#Honor Roll: 3.25+)\n",
    "\n",
    "firstName = input(\"Enter your first name: \")\n",
    "lastName = input(\"Enter your last name: \")\n",
    "gpa = float(input(\"Enter your GPA: \"))\n",
    "\n",
    "deansList = gpa >= 3.5\n",
    "honorRoll = gpa <= 3.25\n",
    "\n",
    "if honorRoll <= deansList:\n",
    "    print(\"Congratulations, \" + firstName + lastName + \"! You made the Honor Roll!\")\n",
    "else: \n",
    "    print(\"Sorry \" + firstName + lastName + \", you didn't make the Honor Roll.\")\n",
    "\n",
    "if deansList > honorRoll:\n",
    "    print(\"Congratulations, \" + firstName + lastName + \"! You made the Dean's List!\")\n",
    "else: \n",
    "    print(\"Sorry \" + firstName + lastName + \", you didn't make the Dean's List.\")"
   ]
  }
 ],
 "metadata": {
  "kernelspec": {
   "display_name": "Python 3 (ipykernel)",
   "language": "python",
   "name": "python3"
  },
  "language_info": {
   "codemirror_mode": {
    "name": "ipython",
    "version": 3
   },
   "file_extension": ".py",
   "mimetype": "text/x-python",
   "name": "python",
   "nbconvert_exporter": "python",
   "pygments_lexer": "ipython3",
   "version": "3.11.4"
  }
 },
 "nbformat": 4,
 "nbformat_minor": 5
}
